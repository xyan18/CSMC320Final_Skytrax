{
 "cells": [
  {
   "cell_type": "code",
   "execution_count": null,
   "id": "demographic-weapon",
   "metadata": {},
   "outputs": [
    {
     "data": {
      "text/plain": [
       "<function matplotlib.pyplot.show(close=None, block=None)>"
      ]
     },
     "execution_count": 1,
     "metadata": {},
     "output_type": "execute_result"
    }
   ],
   "source": [
    "import matplotlib.pyplot as plt\n",
    "plt.rcParams[\"figure.figsize\"] = (15,15)\n",
    "k = -2\n",
    "x = 2**(k-1)\n",
    "y = x\n",
    "# xs = [-4,-10,-12,5,-5,-1,-13,-12]\n",
    "# ys = [3,-12,9,3,-3,2,-11,-14]\n",
    "xs = [-14,-9]\n",
    "ys = [8,-11]\n",
    "#  (-10, 2), (-20, -20), (4, 2), (2, 9), (28, -4), (23, -10)\n",
    "plt.axis([-x, x, -y, y])\n",
    "\n",
    "# plt.plot([-32,32],[0,0])\n",
    "# plt.plot([0,0],[-32,32])\n",
    "\n",
    "# # plt.plot([0,32],[8,8])\n",
    "# # plt.plot([16,16],[-32,32])\n",
    "\n",
    "# plt.plot([-16,0],[8,8])\n",
    "# plt.plot([-8,-8],[-16,16])\n",
    "# plt.plot([-16,0],[-8,-8])\n",
    "# plt.plot([-16,-8],[-12,-12])\n",
    "# plt.plot([-12,-12],[-16,-8])\n",
    "# plt.plot([0,32],[16,16])\n",
    "# plt.plot([8,8],[0,16])\n",
    "\n",
    "# plt.plot([0,16],[8,8])\n",
    "# plt.plot([16,16],[-32,0])\n",
    "\n",
    "# plt.plot([16,32],[-8,-8])\n",
    "# plt.plot([24,24],[-16,0])\n",
    "\n",
    "plt.plot(xs,ys,'ro')\n",
    "\n",
    "\n",
    "# for x,y in zip(xs,ys):\n",
    "\n",
    "#     label = f\"({x},{y})\"\n",
    "#     plt.annotate(label, # this is the text\n",
    "#                  (x,y), # these are the coordinates to position the label\n",
    "#                  textcoords=\"offset points\", # how to position the text\n",
    "#                  xytext=(0,10), # distance from text to points (x,y)\n",
    "#                  ha='center') # horizontal alignment can be left, right or center\n",
    "\n",
    "plt.show\n",
    "# plt.savefig(\"q5\")"
   ]
  },
  {
   "cell_type": "code",
   "execution_count": null,
   "id": "industrial-database",
   "metadata": {},
   "outputs": [],
   "source": []
  }
 ],
 "metadata": {
  "kernelspec": {
   "display_name": "Python 3",
   "language": "python",
   "name": "python3"
  },
  "language_info": {
   "codemirror_mode": {
    "name": "ipython",
    "version": 3
   },
   "file_extension": ".py",
   "mimetype": "text/x-python",
   "name": "python",
   "nbconvert_exporter": "python",
   "pygments_lexer": "ipython3",
   "version": "3.8.6"
  }
 },
 "nbformat": 4,
 "nbformat_minor": 5
}
