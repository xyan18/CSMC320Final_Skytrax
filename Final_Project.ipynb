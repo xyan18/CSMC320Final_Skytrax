{
 "cells": [
  {
   "cell_type": "markdown",
   "id": "miniature-providence",
   "metadata": {},
   "source": [
    "# Exoplanet\n",
    "Author: Xiaorong Yan\n",
    "Raw data from dwonloaded from \n",
    "https://exoplanetarchive.ipac.caltech.edu/cgi-bin/TblView/nph-tblView?app=ExoTbls&config=PS&constraint=default_flag=1\n",
    "NASA Exoplanet Archieve\n",
    "\n",
    "The goal of this project is to use data science "
   ]
  },
  {
   "cell_type": "code",
   "execution_count": null,
   "id": "turkish-fifteen",
   "metadata": {},
   "outputs": [],
   "source": [
    "import pandas as pd\n",
    "import numpy as np\n",
    "import matplotlib.pyplot as plt\n",
    "import seaborn as sns\n",
    "import requests\n",
    "import bs4\n",
    "from sklearn.linear_model import LinearRegression"
   ]
  },
  {
   "cell_type": "code",
   "execution_count": null,
   "id": "julian-investment",
   "metadata": {},
   "outputs": [],
   "source": []
  }
 ],
 "metadata": {
  "kernelspec": {
   "display_name": "Python 3",
   "language": "python",
   "name": "python3"
  },
  "language_info": {
   "codemirror_mode": {
    "name": "ipython",
    "version": 3
   },
   "file_extension": ".py",
   "mimetype": "text/x-python",
   "name": "python",
   "nbconvert_exporter": "python",
   "pygments_lexer": "ipython3",
   "version": "3.8.6"
  }
 },
 "nbformat": 4,
 "nbformat_minor": 5
}
